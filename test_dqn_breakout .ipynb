{
 "cells": [
  {
   "cell_type": "code",
   "execution_count": 16,
   "metadata": {
    "collapsed": false
   },
   "outputs": [],
   "source": [
    "import numpy as np\n",
    "#import pandas as pd\n",
    "import tensorflow as tf\n",
    "import random\n",
    "import gym\n",
    "from gym.wrappers import monitoring\n",
    "from scipy.misc import imresize\n",
    "import matplotlib.pyplot as plt\n",
    "import Image\n",
    "from datetime import datetime"
   ]
  },
  {
   "cell_type": "code",
   "execution_count": 2,
   "metadata": {
    "collapsed": true
   },
   "outputs": [],
   "source": [
    "def downsample(observ): \n",
    "    obs_resized = observ[30:195,6:154].mean(axis = 2)\n",
    "    # nearest neighbor interpolation produces a much sharper image\n",
    "    # than default bilinear\n",
    "    obs_resized = imresize(obs_resized, size=(IM_SIZE, IM_SIZE)\n",
    "                         , interp='nearest')\n",
    "    return obs_resized"
   ]
  },
  {
   "cell_type": "code",
   "execution_count": 3,
   "metadata": {
    "collapsed": false
   },
   "outputs": [],
   "source": [
    "class exp_buffer:\n",
    "    def __init__(self, MIN_EXPERIENCES, MAX_EXPERIENCES):\n",
    "        self.experience = []\n",
    "        self.min_length = MIN_EXPERIENCES\n",
    "        self.max_length = MAX_EXPERIENCES\n",
    "        self.buffer_length = 0\n",
    "#        self.batch_size = batch_size\n",
    "        \n",
    "    def obs2state(self, previous_state, observ):\n",
    "        obs_resized = downsample(observ)\n",
    "        state = np.append(previous_state[1:], np.expand_dims(\n",
    "                          obs_resized, 0) , axis=0)\n",
    "        return state\n",
    "    \n",
    "    def update(self, (state, action, reward, state_new, done )):\n",
    "        if self.buffer_length < self.max_length:\n",
    "            self.experience.append( (state, action, reward, state_new, done) )\n",
    "            self.buffer_length +=1\n",
    "        else:     \n",
    "            self.experience.pop(0)\n",
    "            self.experience.append( (state, action, reward, state_new, done) )\n",
    "        \n",
    "    def get_batch(self, batch_size):\n",
    "        state_batch=[]\n",
    "#        sample_idxs = np.random.choice(self.buffer_length, batch_size)\n",
    "#        for idx in sample_idxs:\n",
    "#            state_batch.append(self.experience[idx][0])\n",
    "#            state_batch = np.stack(state_batch, axis = 0)\n",
    "        samples = random.sample(self.experience, batch_size)\n",
    "## below zip(*some_list) is to unzip some_list:\n",
    "        state_batch, action_batch, reward_batch, next_state_batch, done_batch = map(\n",
    "            np.array, zip(*samples))\n",
    "        return state_batch, action_batch, reward_batch, next_state_batch, done_batch"
   ]
  },
  {
   "cell_type": "code",
   "execution_count": 4,
   "metadata": {
    "collapsed": false
   },
   "outputs": [],
   "source": [
    "class DQN:\n",
    "    def __init__(self, K, conv_sizes, fc_sizes, session, scope):\n",
    "        self.eps_greedy = 0.1\n",
    "        self.K = K\n",
    "        self.scope = scope\n",
    "        self.sess = session\n",
    "        self.gamma = 0.9\n",
    "        \n",
    "        with tf.variable_scope(scope):\n",
    "            self.action = tf.placeholder(tf.int32, shape = (None,), name = 'action' )\n",
    "            self.G = tf.placeholder(tf.float32, shape = (None,), name = 'G') \n",
    "            self.X = tf.placeholder(tf.float32, shape = (None, 4, IM_SIZE, IM_SIZE),\n",
    "                                    name = 'X' )\n",
    "            # tensorflow convolution needs the order to be:\n",
    "            # (num_samples, height, width, \"color\")\n",
    "            # so we need to tranpose later\n",
    "            Z = self.X/255.0    \n",
    "            Z = tf.transpose(Z, [0,2,3,1])\n",
    "\n",
    "            for num_output_filters, filtersz, poolsz in conv_sizes:\n",
    "                Z = tf.contrib.layers.conv2d(\n",
    "                Z,\n",
    "                num_output_filters,\n",
    "                filtersz,\n",
    "                poolsz,\n",
    "                activation_fn=tf.nn.relu\n",
    "                )\n",
    "            \n",
    "            Z = tf.contrib.layers.flatten(Z)\n",
    "        \n",
    "            for sizes in fc_sizes:\n",
    "                Z = tf.contrib.layers.fully_connected(Z, sizes)\n",
    "#            for sizes in fc_sizes:\n",
    "#                Z = tf.contrib.layers.fully_connected(Z, sizes, activation_fn=tf.nn.relu)\n",
    "            \n",
    "            \n",
    "            self.predict_op = tf.contrib.layers.fully_connected(Z, K)\n",
    "\n",
    "            values_selected  = tf.reduce_sum(\n",
    "              self.predict_op * tf.one_hot(self.action, K),\n",
    "              reduction_indices=[1]      )\n",
    "#        values_selected = []\n",
    "#        for idx in xrange(self.X.shape[0]):\n",
    "#            values_selected.append(self.predict_op[idx][self.action[idx]]) \n",
    "            \n",
    "\n",
    "            \n",
    "#            cost = np.mean(np.square(self.G - values_selected), axis = 0)\n",
    "            cost = tf.reduce_mean(tf.square(self.G - values_selected))        \n",
    "            self.train_op = tf.train.RMSPropOptimizer(0.00025, 0.99, 0.0, 1e-6).minimize(cost)\n",
    "            self.cost = cost\n",
    "        \n",
    "        \n",
    "    def select_action(self, state, epsilon):\n",
    "        if np.random.uniform(0,1) > epsilon: \n",
    "            action = np.argmax( self.predict([state])[0] )  ## why a \"[0]\" at the end??      \n",
    "        else:\n",
    "            action = np.random.choice(self.K)\n",
    "        return action  \n",
    "    \n",
    "    def update(self, state_batch, action_batch, target_batch):       \n",
    "        self.sess.run(self.train_op, feed_dict={\n",
    "               self.X: state_batch, self.action: action_batch,\n",
    "               self.G: target_batch })\n",
    "#        return self.cost\n",
    "        \n",
    "    def copy_from(self, other_model):\n",
    "        params_target = [parms for parms in tf.trainable_variables() if parms.name.startswith(\n",
    "                self.scope)]\n",
    "        params_target = sorted(params_target, key=lambda v: v.name)\n",
    "        params_source = [parms for parms in tf.trainable_variables() if parms.name.startswith(\n",
    "                other_model.scope)]\n",
    "        params_source = sorted(params_source, key=lambda v: v.name)\n",
    "         \n",
    "        copy_ops = []\n",
    "        for p,q in zip(params_target, params_source):\n",
    "            params_to_move = self.sess.run(q)\n",
    "            copy_op = p.assign(params_to_move)\n",
    "            copy_ops.append(copy_op)\n",
    "            \n",
    "        self.sess.run(copy_ops)\n",
    "            \n",
    "    def predict(self, states):\n",
    "        predictions = self.sess.run(self.predict_op, feed_dict={\n",
    "                                                    self.X: states})\n",
    "        return predictions          "
   ]
  },
  {
   "cell_type": "code",
   "execution_count": 5,
   "metadata": {
    "collapsed": true
   },
   "outputs": [],
   "source": [
    "def one_round(env, model, model_supp, buff, SAR_cycles, gamma,\n",
    "              eps, eps_delta, eps_min, batch_size ):\n",
    "\n",
    "    t0 = datetime.now()    \n",
    "    total_time_training = 0\n",
    "    num_steps_in_episode = 0\n",
    "#    lost = None    \n",
    "    \n",
    "    one_round_return = 0.\n",
    "    observ = env.reset()\n",
    "    obs_resized = downsample(observ)\n",
    "    state = np.stack([obs_resized]*4, axis = 0)\n",
    "    \n",
    "#    assert(state.shape == (4, 80, 80))\n",
    "\n",
    "    done = False\n",
    "    \n",
    "    while not done:\n",
    "        action = model_supp.select_action(state, eps)\n",
    "        observ_new, reward, done, _ = env.step(action)  \n",
    "        one_round_return += reward\n",
    "\n",
    "        state_new = buff.obs2state(state, observ_new)\n",
    "        buff.update((state, action, reward, state_new, done))\n",
    "        state = state_new\n",
    "       \n",
    "    \n",
    "        \n",
    "        t0_2 = datetime.now()\n",
    "        \n",
    "        ## This buff.get_batch() will grab different batches, \n",
    "        ## each with (batch_size) samples.\n",
    "        state_batch, action_batch, reward_batch, next_state_batch, done_batch = buff.get_batch(\n",
    "        batch_size)\n",
    "        \n",
    "        Q_next_batch = model.predict(next_state_batch)\n",
    "        max_Q_next_batch = np.amax(Q_next_batch, axis=1)\n",
    "        target_batch = reward_batch + np.invert(done_batch).astype(np.float32)*gamma*max_Q_next_batch \n",
    "        model_supp.update(state_batch, action_batch, target_batch) \n",
    "#        cost = model_supp.update(state_batch, action_batch, target_batch)        \n",
    "#        loss = learn(model, target_model, experience_replay_buffer, gamma, batch_size)\n",
    "        dt = datetime.now() - t0_2\n",
    "        total_time_training += dt.total_seconds()\n",
    "        \n",
    "        num_steps_in_episode += 1    \n",
    "            \n",
    "    \n",
    "            \n",
    "        if SAR_cycles%model_update_period == 0:\n",
    "            model.copy_from(model_supp)\n",
    "            print(\"Copy params from model_supp. SAR_cycles = %s, period = %s\" % (SAR_cycles, model_update_period))\n",
    "        \n",
    "        SAR_cycles += 1\n",
    "        eps = max(eps - eps_delta, eps_min)\n",
    "    \n",
    "    return one_round_return, eps, SAR_cycles"
   ]
  },
  {
   "cell_type": "code",
   "execution_count": 6,
   "metadata": {
    "collapsed": false
   },
   "outputs": [
    {
     "name": "stderr",
     "output_type": "stream",
     "text": [
      "[2017-07-21 23:55:06,998] Making new env: Breakout-v0\n"
     ]
    },
    {
     "name": "stdout",
     "output_type": "stream",
     "text": [
      "Copy params from model_supp. SAR_cycles = 0, period = 10000\n",
      "(0, 1.0)\n",
      "Copy params from model_supp. SAR_cycles = 10000, period = 10000\n",
      "Copy params from model_supp. SAR_cycles = 20000, period = 10000\n",
      "(100, 1.0297029702970297)\n",
      "Copy params from model_supp. SAR_cycles = 30000, period = 10000\n",
      "Copy params from model_supp. SAR_cycles = 40000, period = 10000\n",
      "(200, 1.4554455445544554)\n",
      "Copy params from model_supp. SAR_cycles = 50000, period = 10000\n",
      "Copy params from model_supp. SAR_cycles = 60000, period = 10000\n",
      "Copy params from model_supp. SAR_cycles = 70000, period = 10000\n",
      "(300, 1.3762376237623761)\n",
      "Copy params from model_supp. SAR_cycles = 80000, period = 10000\n",
      "Copy params from model_supp. SAR_cycles = 90000, period = 10000\n",
      "(400, 1.1386138613861385)\n",
      "Copy params from model_supp. SAR_cycles = 100000, period = 10000\n",
      "Copy params from model_supp. SAR_cycles = 110000, period = 10000\n",
      "Copy params from model_supp. SAR_cycles = 120000, period = 10000\n",
      "(500, 1.1485148514851484)\n",
      "Copy params from model_supp. SAR_cycles = 130000, period = 10000\n",
      "Copy params from model_supp. SAR_cycles = 140000, period = 10000\n",
      "(600, 1.4059405940594059)\n",
      "Copy params from model_supp. SAR_cycles = 150000, period = 10000\n",
      "Copy params from model_supp. SAR_cycles = 160000, period = 10000\n",
      "Copy params from model_supp. SAR_cycles = 170000, period = 10000\n",
      "(700, 1.3465346534653466)\n",
      "Copy params from model_supp. SAR_cycles = 180000, period = 10000\n",
      "Copy params from model_supp. SAR_cycles = 190000, period = 10000\n",
      "(800, 1.1881188118811881)\n",
      "Copy params from model_supp. SAR_cycles = 200000, period = 10000\n",
      "Copy params from model_supp. SAR_cycles = 210000, period = 10000\n",
      "(900, 1.0792079207920793)\n",
      "Copy params from model_supp. SAR_cycles = 220000, period = 10000\n",
      "Copy params from model_supp. SAR_cycles = 230000, period = 10000\n",
      "Copy params from model_supp. SAR_cycles = 240000, period = 10000\n",
      "(1000, 1.306930693069307)\n",
      "Copy params from model_supp. SAR_cycles = 250000, period = 10000\n",
      "Copy params from model_supp. SAR_cycles = 260000, period = 10000\n",
      "(1100, 1.6831683168316831)\n",
      "Copy params from model_supp. SAR_cycles = 270000, period = 10000\n",
      "Copy params from model_supp. SAR_cycles = 280000, period = 10000\n",
      "Copy params from model_supp. SAR_cycles = 290000, period = 10000\n",
      "(1200, 1.7029702970297029)\n",
      "Copy params from model_supp. SAR_cycles = 300000, period = 10000\n",
      "Copy params from model_supp. SAR_cycles = 310000, period = 10000\n",
      "Copy params from model_supp. SAR_cycles = 320000, period = 10000\n",
      "(1300, 3.0891089108910892)\n",
      "Copy params from model_supp. SAR_cycles = 330000, period = 10000\n",
      "Copy params from model_supp. SAR_cycles = 340000, period = 10000\n",
      "Copy params from model_supp. SAR_cycles = 350000, period = 10000\n",
      "Copy params from model_supp. SAR_cycles = 360000, period = 10000\n",
      "Copy params from model_supp. SAR_cycles = 370000, period = 10000\n",
      "(1400, 5.5346534653465342)\n",
      "Copy params from model_supp. SAR_cycles = 380000, period = 10000\n",
      "Copy params from model_supp. SAR_cycles = 390000, period = 10000\n",
      "Copy params from model_supp. SAR_cycles = 400000, period = 10000\n",
      "Copy params from model_supp. SAR_cycles = 410000, period = 10000\n",
      "Copy params from model_supp. SAR_cycles = 420000, period = 10000\n",
      "Copy params from model_supp. SAR_cycles = 430000, period = 10000\n",
      "Copy params from model_supp. SAR_cycles = 440000, period = 10000\n",
      "(1500, 12.356435643564357)\n",
      "Copy params from model_supp. SAR_cycles = 450000, period = 10000\n",
      "Copy params from model_supp. SAR_cycles = 460000, period = 10000\n",
      "Copy params from model_supp. SAR_cycles = 470000, period = 10000\n",
      "Copy params from model_supp. SAR_cycles = 480000, period = 10000\n",
      "Copy params from model_supp. SAR_cycles = 490000, period = 10000\n",
      "Copy params from model_supp. SAR_cycles = 500000, period = 10000\n",
      "Copy params from model_supp. SAR_cycles = 510000, period = 10000\n",
      "Copy params from model_supp. SAR_cycles = 520000, period = 10000\n",
      "Copy params from model_supp. SAR_cycles = 530000, period = 10000\n",
      "(1600, 18.356435643564357)\n",
      "Copy params from model_supp. SAR_cycles = 540000, period = 10000\n",
      "Copy params from model_supp. SAR_cycles = 550000, period = 10000\n",
      "Copy params from model_supp. SAR_cycles = 560000, period = 10000\n",
      "Copy params from model_supp. SAR_cycles = 570000, period = 10000\n",
      "Copy params from model_supp. SAR_cycles = 580000, period = 10000\n",
      "Copy params from model_supp. SAR_cycles = 590000, period = 10000\n",
      "Copy params from model_supp. SAR_cycles = 600000, period = 10000\n",
      "Copy params from model_supp. SAR_cycles = 610000, period = 10000\n",
      "Copy params from model_supp. SAR_cycles = 620000, period = 10000\n",
      "Copy params from model_supp. SAR_cycles = 630000, period = 10000\n",
      "Copy params from model_supp. SAR_cycles = 640000, period = 10000\n",
      "(1700, 25.772277227722771)\n",
      "Copy params from model_supp. SAR_cycles = 650000, period = 10000\n",
      "Copy params from model_supp. SAR_cycles = 660000, period = 10000\n",
      "Copy params from model_supp. SAR_cycles = 670000, period = 10000\n",
      "Copy params from model_supp. SAR_cycles = 680000, period = 10000\n",
      "Copy params from model_supp. SAR_cycles = 690000, period = 10000\n",
      "Copy params from model_supp. SAR_cycles = 700000, period = 10000\n",
      "Copy params from model_supp. SAR_cycles = 710000, period = 10000\n",
      "Copy params from model_supp. SAR_cycles = 720000, period = 10000\n",
      "Copy params from model_supp. SAR_cycles = 730000, period = 10000\n",
      "Copy params from model_supp. SAR_cycles = 740000, period = 10000\n",
      "Copy params from model_supp. SAR_cycles = 750000, period = 10000\n",
      "(1800, 24.970297029702969)\n",
      "Copy params from model_supp. SAR_cycles = 760000, period = 10000\n",
      "Copy params from model_supp. SAR_cycles = 770000, period = 10000\n",
      "Copy params from model_supp. SAR_cycles = 780000, period = 10000\n",
      "Copy params from model_supp. SAR_cycles = 790000, period = 10000\n",
      "Copy params from model_supp. SAR_cycles = 800000, period = 10000\n",
      "Copy params from model_supp. SAR_cycles = 810000, period = 10000\n",
      "Copy params from model_supp. SAR_cycles = 820000, period = 10000\n",
      "Copy params from model_supp. SAR_cycles = 830000, period = 10000\n",
      "Copy params from model_supp. SAR_cycles = 840000, period = 10000\n",
      "Copy params from model_supp. SAR_cycles = 850000, period = 10000\n",
      "(1900, 23.257425742574256)\n",
      "Copy params from model_supp. SAR_cycles = 860000, period = 10000\n",
      "Copy params from model_supp. SAR_cycles = 870000, period = 10000\n",
      "Copy params from model_supp. SAR_cycles = 880000, period = 10000\n",
      "Copy params from model_supp. SAR_cycles = 890000, period = 10000\n",
      "Copy params from model_supp. SAR_cycles = 900000, period = 10000\n",
      "Copy params from model_supp. SAR_cycles = 910000, period = 10000\n",
      "Copy params from model_supp. SAR_cycles = 920000, period = 10000\n",
      "Copy params from model_supp. SAR_cycles = 930000, period = 10000\n",
      "Copy params from model_supp. SAR_cycles = 940000, period = 10000\n",
      "Copy params from model_supp. SAR_cycles = 950000, period = 10000\n",
      "Copy params from model_supp. SAR_cycles = 960000, period = 10000\n",
      "(2000, 24.742574257425744)\n",
      "Copy params from model_supp. SAR_cycles = 970000, period = 10000\n",
      "Copy params from model_supp. SAR_cycles = 980000, period = 10000\n",
      "Copy params from model_supp. SAR_cycles = 990000, period = 10000\n",
      "Copy params from model_supp. SAR_cycles = 1000000, period = 10000\n",
      "Copy params from model_supp. SAR_cycles = 1010000, period = 10000\n",
      "Copy params from model_supp. SAR_cycles = 1020000, period = 10000\n",
      "Copy params from model_supp. SAR_cycles = 1030000, period = 10000\n",
      "Copy params from model_supp. SAR_cycles = 1040000, period = 10000\n",
      "Copy params from model_supp. SAR_cycles = 1050000, period = 10000\n",
      "Copy params from model_supp. SAR_cycles = 1060000, period = 10000\n",
      "(2100, 20.297029702970296)\n",
      "Copy params from model_supp. SAR_cycles = 1070000, period = 10000\n",
      "Copy params from model_supp. SAR_cycles = 1080000, period = 10000\n",
      "Copy params from model_supp. SAR_cycles = 1090000, period = 10000\n",
      "Copy params from model_supp. SAR_cycles = 1100000, period = 10000\n",
      "Copy params from model_supp. SAR_cycles = 1110000, period = 10000\n",
      "Copy params from model_supp. SAR_cycles = 1120000, period = 10000\n",
      "Copy params from model_supp. SAR_cycles = 1130000, period = 10000\n",
      "Copy params from model_supp. SAR_cycles = 1140000, period = 10000\n",
      "Copy params from model_supp. SAR_cycles = 1150000, period = 10000\n",
      "(2200, 18.663366336633665)\n",
      "Copy params from model_supp. SAR_cycles = 1160000, period = 10000\n",
      "Copy params from model_supp. SAR_cycles = 1170000, period = 10000\n",
      "Copy params from model_supp. SAR_cycles = 1180000, period = 10000\n",
      "Copy params from model_supp. SAR_cycles = 1190000, period = 10000\n",
      "Copy params from model_supp. SAR_cycles = 1200000, period = 10000\n",
      "Copy params from model_supp. SAR_cycles = 1210000, period = 10000\n",
      "Copy params from model_supp. SAR_cycles = 1220000, period = 10000\n",
      "Copy params from model_supp. SAR_cycles = 1230000, period = 10000\n",
      "Copy params from model_supp. SAR_cycles = 1240000, period = 10000\n",
      "Copy params from model_supp. SAR_cycles = 1250000, period = 10000\n",
      "(2300, 19.980198019801982)\n",
      "Copy params from model_supp. SAR_cycles = 1260000, period = 10000\n",
      "Copy params from model_supp. SAR_cycles = 1270000, period = 10000\n",
      "Copy params from model_supp. SAR_cycles = 1280000, period = 10000\n",
      "Copy params from model_supp. SAR_cycles = 1290000, period = 10000\n",
      "Copy params from model_supp. SAR_cycles = 1300000, period = 10000\n",
      "Copy params from model_supp. SAR_cycles = 1310000, period = 10000\n",
      "Copy params from model_supp. SAR_cycles = 1320000, period = 10000\n",
      "Copy params from model_supp. SAR_cycles = 1330000, period = 10000\n",
      "Copy params from model_supp. SAR_cycles = 1340000, period = 10000\n",
      "(2400, 18.277227722772277)\n",
      "Copy params from model_supp. SAR_cycles = 1350000, period = 10000\n",
      "Copy params from model_supp. SAR_cycles = 1360000, period = 10000\n",
      "Copy params from model_supp. SAR_cycles = 1370000, period = 10000\n",
      "Copy params from model_supp. SAR_cycles = 1380000, period = 10000\n",
      "Copy params from model_supp. SAR_cycles = 1390000, period = 10000\n",
      "Copy params from model_supp. SAR_cycles = 1400000, period = 10000\n",
      "Copy params from model_supp. SAR_cycles = 1410000, period = 10000\n",
      "Copy params from model_supp. SAR_cycles = 1420000, period = 10000\n",
      "(2500, 15.079207920792079)\n",
      "Copy params from model_supp. SAR_cycles = 1430000, period = 10000\n",
      "Copy params from model_supp. SAR_cycles = 1440000, period = 10000\n",
      "Copy params from model_supp. SAR_cycles = 1450000, period = 10000\n",
      "Copy params from model_supp. SAR_cycles = 1460000, period = 10000\n",
      "Copy params from model_supp. SAR_cycles = 1470000, period = 10000\n",
      "Copy params from model_supp. SAR_cycles = 1480000, period = 10000\n",
      "Copy params from model_supp. SAR_cycles = 1490000, period = 10000\n",
      "Copy params from model_supp. SAR_cycles = 1500000, period = 10000\n",
      "Copy params from model_supp. SAR_cycles = 1510000, period = 10000\n",
      "Copy params from model_supp. SAR_cycles = 1520000, period = 10000\n",
      "(2600, 18.465346534653467)\n",
      "Copy params from model_supp. SAR_cycles = 1530000, period = 10000\n",
      "Copy params from model_supp. SAR_cycles = 1540000, period = 10000\n",
      "Copy params from model_supp. SAR_cycles = 1550000, period = 10000\n",
      "Copy params from model_supp. SAR_cycles = 1560000, period = 10000\n",
      "Copy params from model_supp. SAR_cycles = 1570000, period = 10000\n",
      "Copy params from model_supp. SAR_cycles = 1580000, period = 10000\n",
      "Copy params from model_supp. SAR_cycles = 1590000, period = 10000\n",
      "Copy params from model_supp. SAR_cycles = 1600000, period = 10000\n",
      "Copy params from model_supp. SAR_cycles = 1610000, period = 10000\n",
      "(2700, 19.782178217821784)\n",
      "Copy params from model_supp. SAR_cycles = 1620000, period = 10000\n",
      "Copy params from model_supp. SAR_cycles = 1630000, period = 10000\n",
      "Copy params from model_supp. SAR_cycles = 1640000, period = 10000\n",
      "Copy params from model_supp. SAR_cycles = 1650000, period = 10000\n",
      "Copy params from model_supp. SAR_cycles = 1660000, period = 10000\n",
      "Copy params from model_supp. SAR_cycles = 1670000, period = 10000\n",
      "Copy params from model_supp. SAR_cycles = 1680000, period = 10000\n",
      "Copy params from model_supp. SAR_cycles = 1690000, period = 10000\n",
      "Copy params from model_supp. SAR_cycles = 1700000, period = 10000\n",
      "Copy params from model_supp. SAR_cycles = 1710000, period = 10000\n",
      "(2800, 18.564356435643564)\n",
      "Copy params from model_supp. SAR_cycles = 1720000, period = 10000\n",
      "Copy params from model_supp. SAR_cycles = 1730000, period = 10000\n",
      "Copy params from model_supp. SAR_cycles = 1740000, period = 10000\n",
      "Copy params from model_supp. SAR_cycles = 1750000, period = 10000\n",
      "Copy params from model_supp. SAR_cycles = 1760000, period = 10000\n",
      "Copy params from model_supp. SAR_cycles = 1770000, period = 10000\n",
      "Copy params from model_supp. SAR_cycles = 1780000, period = 10000\n",
      "Copy params from model_supp. SAR_cycles = 1790000, period = 10000\n",
      "(2900, 17.227722772277229)\n",
      "Copy params from model_supp. SAR_cycles = 1800000, period = 10000\n",
      "Copy params from model_supp. SAR_cycles = 1810000, period = 10000\n",
      "Copy params from model_supp. SAR_cycles = 1820000, period = 10000\n",
      "Copy params from model_supp. SAR_cycles = 1830000, period = 10000\n",
      "Copy params from model_supp. SAR_cycles = 1840000, period = 10000\n",
      "Copy params from model_supp. SAR_cycles = 1850000, period = 10000\n",
      "Copy params from model_supp. SAR_cycles = 1860000, period = 10000\n",
      "Copy params from model_supp. SAR_cycles = 1870000, period = 10000\n",
      "Copy params from model_supp. SAR_cycles = 1880000, period = 10000\n",
      "Copy params from model_supp. SAR_cycles = 1890000, period = 10000\n"
     ]
    }
   ],
   "source": [
    "if __name__ == '__main__':\n",
    "#def main():\n",
    "    env = gym.make('Breakout-v0')\n",
    "    IM_SIZE = 80\n",
    "    session = tf.Session()\n",
    "    conv_sizes = [(32, 8, 4), (64, 4, 2), (64, 3, 1)]\n",
    "    fc_sizes = [512]\n",
    "    gamma = 0.99\n",
    "\n",
    "\n",
    "#    episode_rewards = np.zeros(num_episodes)\n",
    "    \n",
    "    K = 4 #env.action_space.n\n",
    "    MIN_EXPERIENCES = 50000\n",
    "    MAX_EXPERIENCES = 500000\n",
    "    num_episodes = 3000  #10000\n",
    "    SAR_cycles = 0\n",
    "    model_update_period = 10000\n",
    "    batch_size = 32\n",
    "    \n",
    "    eps = 1.0\n",
    "    eps_min = 0.1\n",
    "    eps_delta = (eps - eps_min) / 500000\n",
    "    \n",
    "    \n",
    "#    model = DQN(\n",
    "#      K=K,\n",
    "#      conv_layer_sizes=conv_layer_sizes,\n",
    "#      hidden_layer_sizes=hidden_layer_sizes,\n",
    "#      gamma=gamma,\n",
    "#      scope= \"model\")\n",
    "    \n",
    "    model = DQN(K, conv_sizes, fc_sizes, session, scope = 'model')\n",
    "    model_supp = DQN(K, conv_sizes, fc_sizes, session, scope = 'model_supp')\n",
    "    buff = exp_buffer(MIN_EXPERIENCES, MAX_EXPERIENCES)\n",
    "    \n",
    "\n",
    "    #sess.run(tf.global_variables_initializer())\n",
    "    session.run(tf.initialize_all_variables())\n",
    "    \n",
    "    \n",
    "#    round_length = []\n",
    "    observ = env.reset()\n",
    "    obs_resized = downsample(observ)\n",
    "    state = np.stack([obs_resized]*4, axis = 0)\n",
    "    \n",
    "    for iters in xrange(MIN_EXPERIENCES ):\n",
    "        action = np.random.choice(K)\n",
    "        observ_new, reward, done, _ = env.step(action)          \n",
    "        state_new = buff.obs2state(state, observ_new)\n",
    "        buff.update((state, action, reward, state_new, done))\n",
    "        \n",
    "        if done:      \n",
    "            observ = env.reset()\n",
    "            obs_resized = downsample(observ)\n",
    "            state = np.stack([obs_resized]*4, axis = 0)    \n",
    "        else:\n",
    "            state = state_new\n",
    "        \n",
    "#        if iters%20 == 0:\n",
    "#            print(iters, buff.buffer_length)\n",
    "\n",
    "# total_t, episode_reward, duration, \n",
    "# num_steps_in_episode, time_per_step, epsilon \n",
    "# = play_one(  env, total_t,  experience_replay_buffer,\n",
    "#              model, target_model, gamma,  batch_sz,\n",
    "#              epsilon,  epsilon_change,  epsilon_min,      )\n",
    "\n",
    "    all_returns = [] \n",
    "    for iters in xrange(num_episodes):       \n",
    "        one_round_return, eps, SAR_cycles = one_round(env, model, \n",
    "                              model_supp, buff, SAR_cycles, gamma,\n",
    "                              eps, eps_delta, eps_min, batch_size )\n",
    "\n",
    "        all_returns.append( one_round_return )\n",
    "        \n",
    "        if iters%100 == 0:\n",
    "            last_100_avg = np.mean(all_returns[max(0, iters-100):iters+1])\n",
    "            print(iters, last_100_avg)  \n",
    "    \n",
    "#    print(all_returns[:5])\n",
    "\n",
    "\n",
    "#            last_100_avg = episode_rewards[max(0, i - 100):i + 1].mean()\n",
    "#            print(\"Episode:\", i,\n",
    "#              \"Duration:\", duration,\n",
    "#              \"Num steps:\", num_steps_in_episode,\n",
    "#              \"Reward:\", episode_reward,\n",
    "#              \"Training time per step:\", \"%.3f\" % time_per_step,\n",
    "#              \"Avg Reward (Last 100):\", \"%.3f\" % last_100_avg,\n",
    "#              \"Epsilon:\", \"%.3f\" % epsilon\n",
    "#            )\n",
    "#            sys.stdout.flush()"
   ]
  },
  {
   "cell_type": "code",
   "execution_count": 228,
   "metadata": {
    "collapsed": false
   },
   "outputs": [],
   "source": [
    "#if __name__ == '__main__':\n",
    "#    main()"
   ]
  },
  {
   "cell_type": "code",
   "execution_count": null,
   "metadata": {
    "collapsed": true
   },
   "outputs": [],
   "source": []
  },
  {
   "cell_type": "code",
   "execution_count": null,
   "metadata": {
    "collapsed": true
   },
   "outputs": [],
   "source": []
  },
  {
   "cell_type": "code",
   "execution_count": 12,
   "metadata": {
    "collapsed": false
   },
   "outputs": [
    {
     "data": {
      "text/plain": [
       "19.710000000000001"
      ]
     },
     "execution_count": 12,
     "metadata": {},
     "output_type": "execute_result"
    }
   ],
   "source": [
    "np.mean(all_returns[2900:])\n"
   ]
  },
  {
   "cell_type": "code",
   "execution_count": 9,
   "metadata": {
    "collapsed": false
   },
   "outputs": [
    {
     "data": {
      "text/plain": [
       "3000"
      ]
     },
     "execution_count": 9,
     "metadata": {},
     "output_type": "execute_result"
    }
   ],
   "source": [
    "len(all_returns)"
   ]
  },
  {
   "cell_type": "code",
   "execution_count": null,
   "metadata": {
    "collapsed": true
   },
   "outputs": [],
   "source": []
  },
  {
   "cell_type": "code",
   "execution_count": 50,
   "metadata": {
    "collapsed": false
   },
   "outputs": [
    {
     "name": "stderr",
     "output_type": "stream",
     "text": [
      "[2017-07-22 05:56:56,656] Making new env: Breakout-v0\n",
      "[2017-07-22 05:56:56,690] Finished writing results. You can upload them to the scoreboard via gym.upload('/home/ny/openai_gym_vedios/breakout/02')\n",
      "[2017-07-22 05:56:56,695] Clearing 4 monitor files from previous run (because force=True was provided)\n",
      "[2017-07-22 05:56:56,705] Starting new video recorder writing to /home/ny/openai_gym_vedios/breakout/02/openaigym.video.33.4286.video000000.mp4\n"
     ]
    }
   ],
   "source": [
    "env = gym.make('Breakout-v0')\n",
    "name = 'openai_gym_vedios/breakout/02'\n",
    "env = monitoring.Monitor(env, name , force=True)\n",
    "\n",
    "observ = env.reset()\n",
    "obs_resized = downsample(observ)\n",
    "state = np.stack([obs_resized]*4, axis = 0)\n",
    " \n",
    "done = False\n",
    "    \n",
    "while not done:\n",
    "    env.render()\n",
    "    action = model_supp.select_action(state, eps)\n",
    "    observ_new, reward, done, _ = env.step(action)  \n",
    "    state_new = buff.obs2state(state, observ_new)\n",
    "    state = state_new\n",
    " "
   ]
  },
  {
   "cell_type": "code",
   "execution_count": null,
   "metadata": {
    "collapsed": true
   },
   "outputs": [],
   "source": []
  },
  {
   "cell_type": "code",
   "execution_count": null,
   "metadata": {
    "collapsed": true
   },
   "outputs": [],
   "source": []
  },
  {
   "cell_type": "code",
   "execution_count": null,
   "metadata": {
    "collapsed": true
   },
   "outputs": [],
   "source": []
  },
  {
   "cell_type": "code",
   "execution_count": null,
   "metadata": {
    "collapsed": true
   },
   "outputs": [],
   "source": []
  },
  {
   "cell_type": "markdown",
   "metadata": {},
   "source": [
    "## TEST main()"
   ]
  },
  {
   "cell_type": "code",
   "execution_count": 199,
   "metadata": {
    "collapsed": false
   },
   "outputs": [
    {
     "name": "stdout",
     "output_type": "stream",
     "text": [
      "False\n"
     ]
    }
   ],
   "source": [
    "logic = True\n",
    "for i in xrange(IM_SIZE):\n",
    "    for j in xrange(IM_SIZE):\n",
    "        logic = logic and (buff.experience[buff.buffer_length-10][3][0][i][j]==buff.experience[buff.buffer_length-1][3][0][i][j])\n",
    "        \n",
    "print logic\n",
    "        "
   ]
  },
  {
   "cell_type": "code",
   "execution_count": 26,
   "metadata": {
    "collapsed": true
   },
   "outputs": [],
   "source": [
    "img = Image.fromarray(obs_resized)\n",
    "#img = Image.fromarray(observ)\n",
    "img.show()"
   ]
  },
  {
   "cell_type": "code",
   "execution_count": 27,
   "metadata": {
    "collapsed": false
   },
   "outputs": [
    {
     "name": "stdout",
     "output_type": "stream",
     "text": [
      "(210, 160, 3)\n",
      "<type 'numpy.ndarray'>\n"
     ]
    }
   ],
   "source": [
    "print(observ.shape)\n",
    "print(type(obs_resized))"
   ]
  },
  {
   "cell_type": "code",
   "execution_count": 31,
   "metadata": {
    "collapsed": false
   },
   "outputs": [
    {
     "data": {
      "text/plain": [
       "3"
      ]
     },
     "execution_count": 31,
     "metadata": {},
     "output_type": "execute_result"
    }
   ],
   "source": [
    "np.random.uniform(0,1)\n",
    "np.random.choice(4)\n",
    "np.argmax([1,2,4,16,8,1])"
   ]
  },
  {
   "cell_type": "code",
   "execution_count": null,
   "metadata": {
    "collapsed": false
   },
   "outputs": [],
   "source": []
  },
  {
   "cell_type": "code",
   "execution_count": null,
   "metadata": {
    "collapsed": true
   },
   "outputs": [],
   "source": []
  },
  {
   "cell_type": "code",
   "execution_count": null,
   "metadata": {
    "collapsed": true
   },
   "outputs": [],
   "source": []
  },
  {
   "cell_type": "code",
   "execution_count": null,
   "metadata": {
    "collapsed": true
   },
   "outputs": [],
   "source": []
  }
 ],
 "metadata": {
  "anaconda-cloud": {},
  "celltoolbar": "Raw Cell Format",
  "kernelspec": {
   "display_name": "Python 2",
   "language": "python",
   "name": "python2"
  },
  "language_info": {
   "codemirror_mode": {
    "name": "ipython",
    "version": 2
   },
   "file_extension": ".py",
   "mimetype": "text/x-python",
   "name": "python",
   "nbconvert_exporter": "python",
   "pygments_lexer": "ipython2",
   "version": "2.7.12"
  }
 },
 "nbformat": 4,
 "nbformat_minor": 0
}
